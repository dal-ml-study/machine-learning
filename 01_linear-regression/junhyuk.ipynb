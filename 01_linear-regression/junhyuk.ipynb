{
 "cells": [
  {
   "cell_type": "code",
   "execution_count": 113,
   "metadata": {},
   "outputs": [],
   "source": [
    "import numpy as np\n",
    "import matplotlib.pyplot as plt"
   ]
  },
  {
   "cell_type": "markdown",
   "metadata": {},
   "source": [
    "# Linear Regression by numpy"
   ]
  },
  {
   "cell_type": "markdown",
   "metadata": {},
   "source": [
    "## Make Random X, Y values"
   ]
  },
  {
   "cell_type": "code",
   "execution_count": 127,
   "metadata": {},
   "outputs": [],
   "source": [
    "x = np.random.uniform(size=100)"
   ]
  },
  {
   "cell_type": "code",
   "execution_count": 128,
   "metadata": {},
   "outputs": [
    {
     "name": "stdout",
     "output_type": "stream",
     "text": [
      "W:5.267450506088044 B:8.606146599504905\n"
     ]
    }
   ],
   "source": [
    "W = np.random.uniform(7)\n",
    "B = np.random.uniform(10)\n",
    "print(\"W:{} B:{}\".format(W, B))"
   ]
  },
  {
   "cell_type": "code",
   "execution_count": 129,
   "metadata": {},
   "outputs": [],
   "source": [
    "y = x * W + B + np.random.normal(0, 0.5, 100)"
   ]
  },
  {
   "cell_type": "code",
   "execution_count": 130,
   "metadata": {},
   "outputs": [
    {
     "data": {
      "text/plain": [
       "<matplotlib.collections.PathCollection at 0x1a25cc35c0>"
      ]
     },
     "execution_count": 130,
     "metadata": {},
     "output_type": "execute_result"
    },
    {
     "data": {
      "image/png": "[encoded data removed]",
      "text/plain": [
       "<Figure size 432x288 with 1 Axes>"
      ]
     },
     "metadata": {
      "needs_background": "light"
     },
     "output_type": "display_data"
    }
   ],
   "source": [
    "plt.scatter(x, y)"
   ]
  },
  {
   "cell_type": "code",
   "execution_count": 132,
   "metadata": {},
   "outputs": [
    {
     "name": "stdout",
     "output_type": "stream",
     "text": [
      "w:0.6542861419553144 b:0.25893968120674393\n"
     ]
    }
   ],
   "source": [
    "w = np.random.uniform()\n",
    "b = np.random.uniform()\n",
    "print('w:{} b:{}'.format(w, b))"
   ]
  },
  {
   "cell_type": "markdown",
   "metadata": {},
   "source": [
    "## Gradient Descent"
   ]
  },
  {
   "cell_type": "code",
   "execution_count": 133,
   "metadata": {},
   "outputs": [
    {
     "name": "stdout",
     "output_type": "stream",
     "text": [
      "residual:115.94711294918827\tw:1.2175651700266423\tb:1.3264850794396215\n",
      "residual:0.25879119512021137\tw:5.138916307495854\tb:8.729524243297856\n",
      "residual:0.25878962159917346\tw:5.142171196380355\tb:8.727807290924536\n",
      "residual:0.25878951846559106\tw:5.143004493615864\tb:8.727367727015285\n",
      "residual:0.25878951170588743\tw:5.14321782940367\tb:8.727255192485138\n"
     ]
    }
   ],
   "source": [
    "learning_rate = 0.1\n",
    "\n",
    "for i in range(1000):\n",
    "    residual = np.mean(np.square(w * x + b - y))\n",
    "    dw = np.mean((w * x + b - y) * x)\n",
    "    db = np.mean(w * x + b - y)\n",
    "    w = w - dw * learning_rate\n",
    "    b = b - db * learning_rate\n",
    "    \n",
    "    if i % 200 == 0:\n",
    "        print('residual:{}\\tw:{}\\tb:{}'.format(residual, w, b))"
   ]
  },
  {
   "cell_type": "code",
   "execution_count": 134,
   "metadata": {},
   "outputs": [
    {
     "data": {
      "text/plain": [
       "[<matplotlib.lines.Line2D at 0x1a25e1b9e8>]"
      ]
     },
     "execution_count": 134,
     "metadata": {},
     "output_type": "execute_result"
    },
    {
     "data": {
      "image/png": "[encoded data removed]",
      "text/plain": [
       "<Figure size 432x288 with 1 Axes>"
      ]
     },
     "metadata": {
      "needs_background": "light"
     },
     "output_type": "display_data"
    }
   ],
   "source": [
    "plt.scatter(x, y)\n",
    "plt.plot(x, w * x + b, color='orange')"
   ]
  },
  {
   "cell_type": "markdown",
   "metadata": {},
   "source": [
    "# Result"
   ]
  },
  {
   "cell_type": "code",
   "execution_count": 125,
   "metadata": {},
   "outputs": [
    {
     "name": "stdout",
     "output_type": "stream",
     "text": [
      "W:4.44247029312599\tB:9.900162272748961\n",
      "w:4.249927348505437\tb:9.977573669961357\n"
     ]
    }
   ],
   "source": [
    "print(\"W:{}\\tB:{}\".format(W, B))\n",
    "print(\"w:{}\\tb:{}\".format(w, b))"
   ]
  }
 ],
 "metadata": {
  "kernelspec": {
   "display_name": "Python 3",
   "language": "python",
   "name": "python3"
  },
  "language_info": {
   "codemirror_mode": {
    "name": "ipython",
    "version": 3
   },
   "file_extension": ".py",
   "mimetype": "text/x-python",
   "name": "python",
   "nbconvert_exporter": "python",
   "pygments_lexer": "ipython3",
   "version": "3.7.1"
  }
 },
 "nbformat": 4,
 "nbformat_minor": 2
}
